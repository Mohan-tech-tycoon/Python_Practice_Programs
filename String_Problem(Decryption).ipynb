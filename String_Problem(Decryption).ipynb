{
 "cells": [
  {
   "cell_type": "markdown",
   "metadata": {},
   "source": [
    "# String Problem #\n",
    "**Description**\\\n",
    "In a certain encrypted message which has information about the location(area, city), the characters are jumbled such that first character of the first word is followed by the first character of the second word, then it is followed by second character of the first word and so on\n",
    "\n",
    "*In other words, let’s say the location is bandra,mumbai\n",
    "-The encrypted message says ‘bmaunmdbraai’.\n",
    "\n",
    "**Sample Input:**\\\n",
    "`bmaunmdbraai`\n",
    "\n",
    "**Sample Output:**\\\n",
    "`bandra,mumbai`\n",
    "\n",
    "Let’s say the size or length of the two words wouldn’t match then the smaller word is appended with # and then encrypted in the above format.\n",
    "\n",
    "With this in mind write a code to identify the right location and print it as place,city.\n"
   ]
  },
  {
   "cell_type": "code",
   "execution_count": 20,
   "metadata": {},
   "outputs": [
    {
     "name": "stdout",
     "output_type": "stream",
     "text": [
      "Hi Bharath\n",
      "14\n",
      "adyar,chennai\n"
     ]
    }
   ],
   "source": [
    "word=\"acdhyeanrn#a#i\"#\"bmaunmdbraai\"\n",
    "#print('{1},{2},{3},{4},{5},{6},{7},{8},{9}'.format('a','n','d','r',\",\",'m','u','m','b'))\n",
    "print('Hi {0}'.format(\"Bharath\"))\n",
    "print(len(word))\n",
    "a=\"\"\n",
    "b=\"\"\n",
    "cnt = 0\n",
    "while (cnt<len(word)):\n",
    "    if cnt%2==0:\n",
    "        a = a + word[cnt]\n",
    "    else:\n",
    "        b = b + word[cnt]\n",
    "    cnt+=1    \n",
    "print(a.replace('#','')+','+b.replace('#',''))    \n"
   ]
  },
  {
   "cell_type": "code",
   "execution_count": 18,
   "metadata": {},
   "outputs": [
    {
     "name": "stdout",
     "output_type": "stream",
     "text": [
      "acde\n"
     ]
    }
   ],
   "source": [
    "print('abcbdbe'.replace('b',''))"
   ]
  },
  {
   "cell_type": "code",
   "execution_count": 22,
   "metadata": {},
   "outputs": [
    {
     "name": "stdout",
     "output_type": "stream",
     "text": [
      ",\n"
     ]
    }
   ],
   "source": [
    "import ast,sys\n",
    "input_str = sys.stdin.read()\n",
    "message1 = input_str[0:-1:2]\n",
    "message2 = input_str[1:len(input_str):2]\n",
    "print(message1.strip('#') + \",\" + message2.strip('#'))"
   ]
  },
  {
   "cell_type": "code",
   "execution_count": 28,
   "metadata": {},
   "outputs": [
    {
     "name": "stdin",
     "output_type": "stream",
     "text": [
      " 1 45 53 21 5 \n"
     ]
    },
    {
     "name": "stdout",
     "output_type": "stream",
     "text": [
      "<map object at 0x00000239D2EFA348>\n",
      "45\n"
     ]
    }
   ],
   "source": [
    "i = map(int,input().split())\n",
    "print(i)\n",
    "#print(list(i))\n",
    "print(sorted(list(i))[-2])"
   ]
  },
  {
   "cell_type": "code",
   "execution_count": 24,
   "metadata": {},
   "outputs": [
    {
     "name": "stdout",
     "output_type": "stream",
     "text": [
      "<map object at 0x00000239D2F04B88>\n",
      "[1, 2, 3]\n"
     ]
    }
   ],
   "source": []
  },
  {
   "cell_type": "code",
   "execution_count": null,
   "metadata": {},
   "outputs": [],
   "source": []
  }
 ],
 "metadata": {
  "kernelspec": {
   "display_name": "Python 3",
   "language": "python",
   "name": "python3"
  },
  "language_info": {
   "codemirror_mode": {
    "name": "ipython",
    "version": 3
   },
   "file_extension": ".py",
   "mimetype": "text/x-python",
   "name": "python",
   "nbconvert_exporter": "python",
   "pygments_lexer": "ipython3",
   "version": "3.7.6"
  }
 },
 "nbformat": 4,
 "nbformat_minor": 4
}
